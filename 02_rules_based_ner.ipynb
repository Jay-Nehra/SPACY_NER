{
  "cells": [
    {
      "cell_type": "markdown",
      "metadata": {
        "id": "view-in-github",
        "colab_type": "text"
      },
      "source": [
        "<a href=\"https://colab.research.google.com/github/Jay-Nehra/SpaCy_NER/blob/main/02_rules_based_ner.ipynb\" target=\"_parent\"><img src=\"https://colab.research.google.com/assets/colab-badge.svg\" alt=\"Open In Colab\"/></a>"
      ]
    },
    {
      "cell_type": "markdown",
      "metadata": {
        "id": "L8MO1wvsGIMP"
      },
      "source": [
        "# Rules Based NER"
      ]
    },
    {
      "cell_type": "markdown",
      "metadata": {
        "id": "D1whhVpYGIMR"
      },
      "source": [
        "### There are two primary approaches to NLP and NER: rules-based and machine learning-based. This notebook will focus on the rules-based approach, while the subsequent one will explore machine learning-based techniques.\n",
        "\n",
        "In rules-based NER, user either employs or devises an NLP system governed by a specific set of instructions, or \"rules,\" to execute particular NLP tasks.\n",
        "> For NER, this process often involves the use of a gazetteer. A gazetteer is essentially a collection or dictionary of entities categorized under a particular label. For instance, in identifying people, this could encompass a compilation of first and last names. If one were to design an NER system for a certain geographical area, as will be discussed in a later document, this might include a comprehensive list of all places within that area."
      ]
    },
    {
      "cell_type": "markdown",
      "metadata": {
        "id": "Y4kjg7aqGIMS"
      },
      "source": [
        "### *When should you use a rules-based NER approach?*\n",
        "\n",
        "When the representation of a specific entity follows a limited set of patterns, enabling the capture of approximately 95-97% of occurrences through these rules, it's an efficient strategy. The target of 95-97% isn't rooted in industry norms but represents my personal benchmark for the performance of NER models. If I can attain this level of accuracy with a rules-based method, mirroring the precision of a machine learning model, I'm inclined to opt for it.\n",
        "> This preference is primarily due to the quicker implementation time of rules-based approaches compared to the duration required to train, validate, and test a machine learning model.\n"
      ]
    },
    {
      "cell_type": "markdown",
      "metadata": {
        "id": "DSvmrqgAGIMS"
      },
      "source": [
        "### Rules-Based NER's Limitations\n",
        "\n",
        "It's crucial to bear in mind, however, that rules-based methods are exactly what the term implies: reliant on rules. If an entity doesn't conform to the established rules, it won't be identified as such. This limitation becomes particularly apparent in texts that have undergone OCR processes, have been typed without spellcheck, remain unedited, or are in any other form of unprocessed state.\n",
        "\n",
        "Cleaning texts is a fundamental step in preparing data for NLP applications, but it's not always feasible to thoroughly cleanse a text. Additionally, users of a specific NER framework might not be aware of the necessity to pre-clean texts.\n",
        ">This represents a significant drawback of rules-based approaches and is a primary reason why researchers today lean towards machine learning methods. Machine learning models have the capacity to learn and, as a result, can generalize to unseen data, accommodating variances to a certain degree from previously encountered scenarios. This aspect will be discussed more comprehensively in the upcoming notebook."
      ]
    },
    {
      "cell_type": "markdown",
      "metadata": {
        "id": "OwJ57krWGIMS"
      },
      "source": [
        "### SpaCy's EntityRuler\n",
        "\n",
        "There are a few ways to engage in rules-based NER with spaCy, but one of the more fundamental is its EntityRuler.\n"
      ]
    },
    {
      "cell_type": "code",
      "execution_count": null,
      "metadata": {
        "id": "CkDa2Ng5GIMT",
        "outputId": "959faab6-aef7-4ec2-e29b-b509d6bf504e"
      },
      "outputs": [
        {
          "name": "stdout",
          "output_type": "stream",
          "text": [
            "basketball SPORT\n"
          ]
        }
      ],
      "source": [
        "text = \"\"\"Mary, a senior,\n",
        "moved to Spain where she will be playing basketball and soccer until 05 June 2022 or until she can't play any longer.\"\"\"\n",
        "\n",
        "#Import spacy\n",
        "import spacy\n",
        "\n",
        "#Create a blank spaCy model that will parse English (\"en\")\n",
        "nlp = spacy.blank(\"en\")\n",
        "\n",
        "\n",
        "#Create a set of patterns\n",
        "patterns = [{\"label\": \"SPORT\", \"pattern\": \"basketball\"}]\n",
        "\n",
        "nlp.add_pipe('sentencizer')\n",
        "#Create a ruler that we will add to the model\n",
        "entity_ruler = nlp.add_pipe(\"entity_ruler\")\n",
        "\n",
        "#Initialize the entity ruler with the patterns\n",
        "entity_ruler.add_patterns(patterns)\n",
        "\n",
        "#Create the doc object\n",
        "doc = nlp(text)\n",
        "\n",
        "#Iterate over all entities (there will be only one)\n",
        "for ent in doc.ents:\n",
        "    print (ent.text, ent.label_)\n"
      ]
    },
    {
      "cell_type": "code",
      "execution_count": null,
      "metadata": {
        "id": "sZEeTaBEGIMU",
        "outputId": "566b80a2-0bf1-499d-8744-4c493fb6332c"
      },
      "outputs": [
        {
          "name": "stdout",
          "output_type": "stream",
          "text": [
            "12345 POTENTIAL_ZIP_CODE\n",
            "basketball SPORT\n"
          ]
        }
      ],
      "source": [
        "\n",
        "new_label = ({\"label\": \"POTENTIAL_ZIP_CODE\", \"pattern\": [{\"IS_DIGIT\": True, \"LENGTH\": 5}]})\n",
        "patterns.append(new_label)\n",
        "entity_ruler.add_patterns([new_label])\n",
        "\n",
        "text = \"my zip code is 12345 and, the package needs to arrive there. I am expecting a basketball\"\n",
        "\n",
        "doc = nlp(text)\n",
        "\n",
        "# Function to check for the context word in the sentence of a detected entity\n",
        "def context_word_in_sentence(doc, ent, context_word):\n",
        "    # Retrieve the sentence containing the entity\n",
        "    sentence = next(sent for sent in doc.sents if ent.start_char >= sent.start_char and ent.end_char <= sent.end_char)\n",
        "    # Check if the context word is in the sentence\n",
        "    return context_word in [token.lower_ for token in sentence]\n",
        "\n",
        "# Iterate over detected entities and print those that meet the context condition\n",
        "for ent in doc.ents:\n",
        "    if ent.label_ == \"POTENTIAL_ZIP_CODE\" and context_word_in_sentence(doc, ent, \"zip\"):\n",
        "        print (ent.text, ent.label_)\n",
        "    else:\n",
        "        print (ent.text, ent.label_)"
      ]
    },
    {
      "cell_type": "code",
      "execution_count": null,
      "metadata": {
        "id": "n11TMBQIGIMU",
        "outputId": "eea96a86-012b-4648-9177-31a3aee1ac4d"
      },
      "outputs": [
        {
          "name": "stdout",
          "output_type": "stream",
          "text": [
            "[['John Doe lives in Warsaw, Poland.',\n",
            "  {'entities': [['John Doe', 0, 8, 'PERSON'],\n",
            "                ['Warsaw', 18, 24, 'GPE'],\n",
            "                ['Poland', 26, 32, 'GPE']]}],\n",
            " ['His email is john.doe@example.com, and his birthday is on 5th July 1988.',\n",
            "  {'entities': [['john.doe@example.com', 13, 33, 'PERSON'],\n",
            "                ['5th July 1988', 58, 71, 'DATE']]}],\n",
            " ['Wikipedia notes that Treblinka is not large.',\n",
            "  {'entities': [['Wikipedia', 0, 9, 'ORG']]}]]\n"
          ]
        }
      ],
      "source": [
        "import spacy\n",
        "import pprint\n",
        "\n",
        "\n",
        "nlp = spacy.load(\"en_core_web_sm\")\n",
        "\n",
        "text = \"John Doe lives in Warsaw, Poland. His email is john.doe@example.com, and his birthday is on 5th July 1988. Wikipedia notes that Treblinka is not large.\"\n",
        "\n",
        "corpus = []\n",
        "\n",
        "doc = nlp(text)\n",
        "for sent in doc.sents:\n",
        "    corpus.append(sent.text)\n",
        "\n",
        "ruler = nlp.add_pipe(\"entity_ruler\", after=\"ner\")\n",
        "\n",
        "patterns = [\n",
        "    {\"label\": \"EMAIL\", \"pattern\": [{\"TEXT\": {\"REGEX\": \"^[a-zA-Z0-9_.+-]+@[a-zA-Z0-9-]+\\.[a-zA-Z0-9-.]+$\"}}]}\n",
        "]\n",
        "\n",
        "ruler.add_patterns(patterns)\n",
        "\n",
        "TRAIN_DATA = []\n",
        "\n",
        "for sentence in corpus:\n",
        "    doc = nlp(sentence)\n",
        "    entities = []\n",
        "    for ent in doc.ents:\n",
        "        entities.append([ent.text, ent.start_char, ent.end_char, ent.label_])\n",
        "    TRAIN_DATA.append([sentence, {\"entities\": entities}])\n",
        "\n",
        "pprint.pprint(TRAIN_DATA)"
      ]
    },
    {
      "cell_type": "code",
      "execution_count": null,
      "metadata": {
        "id": "XfIjk1c5GIMV",
        "outputId": "b9c55b51-1099-4d36-c683-794332a7038b"
      },
      "outputs": [
        {
          "name": "stdout",
          "output_type": "stream",
          "text": [
            "Defaulting to user installation because normal site-packages is not writeable\n",
            "Collecting gliner-spacy\n",
            "  Downloading gliner-spacy-0.0.2.tar.gz (3.3 kB)\n",
            "  Preparing metadata (setup.py) ... \u001b[?25ldone\n",
            "\u001b[?25hRequirement already satisfied: spacy in /home/jayantnehra/.local/lib/python3.10/site-packages (from gliner-spacy) (3.7.4)\n",
            "Collecting gliner (from gliner-spacy)\n",
            "  Downloading gliner-0.1.6-py3-none-any.whl.metadata (8.3 kB)\n",
            "Requirement already satisfied: torch>=2.0.0 in /home/jayantnehra/.local/lib/python3.10/site-packages (from gliner->gliner-spacy) (2.0.1)\n",
            "Collecting transformers>=4.38.2 (from gliner->gliner-spacy)\n",
            "  Downloading transformers-4.39.2-py3-none-any.whl.metadata (134 kB)\n",
            "\u001b[2K     \u001b[90m━━━━━━━━━━━━━━━━━━━━━━━━━━━━━━━━━━━━━━━\u001b[0m \u001b[32m134.8/134.8 kB\u001b[0m \u001b[31m1.8 MB/s\u001b[0m eta \u001b[36m0:00:00\u001b[0ma \u001b[36m0:00:01\u001b[0m\n",
            "\u001b[?25hCollecting huggingface-hub>=0.21.4 (from gliner->gliner-spacy)\n",
            "  Using cached huggingface_hub-0.22.2-py3-none-any.whl.metadata (12 kB)\n",
            "Collecting flair==0.13.1 (from gliner->gliner-spacy)\n",
            "  Downloading flair-0.13.1-py3-none-any.whl.metadata (12 kB)\n",
            "Collecting seqeval (from gliner->gliner-spacy)\n",
            "  Downloading seqeval-1.2.2.tar.gz (43 kB)\n",
            "\u001b[2K     \u001b[90m━━━━━━━━━━━━━━━━━━━━━━━━━━━━━━━━━━━━━━━━\u001b[0m \u001b[32m43.6/43.6 kB\u001b[0m \u001b[31m3.2 MB/s\u001b[0m eta \u001b[36m0:00:00\u001b[0m\n",
            "\u001b[?25h  Preparing metadata (setup.py) ... \u001b[?25ldone\n",
            "\u001b[?25hRequirement already satisfied: tqdm in /home/jayantnehra/.local/lib/python3.10/site-packages (from gliner->gliner-spacy) (4.65.0)\n",
            "Collecting boto3>=1.20.27 (from flair==0.13.1->gliner->gliner-spacy)\n",
            "  Downloading boto3-1.34.74-py3-none-any.whl.metadata (6.6 kB)\n",
            "Collecting bpemb>=0.3.2 (from flair==0.13.1->gliner->gliner-spacy)\n",
            "  Downloading bpemb-0.3.5-py3-none-any.whl.metadata (19 kB)\n",
            "Collecting conllu>=4.0 (from flair==0.13.1->gliner->gliner-spacy)\n",
            "  Downloading conllu-4.5.3-py2.py3-none-any.whl.metadata (19 kB)\n",
            "Requirement already satisfied: deprecated>=1.2.13 in /home/jayantnehra/.local/lib/python3.10/site-packages (from flair==0.13.1->gliner->gliner-spacy) (1.2.13)\n",
            "Collecting ftfy>=6.1.0 (from flair==0.13.1->gliner->gliner-spacy)\n",
            "  Downloading ftfy-6.2.0-py3-none-any.whl.metadata (7.3 kB)\n",
            "Collecting gdown>=4.4.0 (from flair==0.13.1->gliner->gliner-spacy)\n",
            "  Downloading gdown-5.1.0-py3-none-any.whl.metadata (5.7 kB)\n",
            "Collecting gensim>=4.2.0 (from flair==0.13.1->gliner->gliner-spacy)\n",
            "  Downloading gensim-4.3.2-cp310-cp310-manylinux_2_17_x86_64.manylinux2014_x86_64.whl.metadata (8.4 kB)\n",
            "Collecting janome>=0.4.2 (from flair==0.13.1->gliner->gliner-spacy)\n",
            "  Downloading Janome-0.5.0-py2.py3-none-any.whl.metadata (2.6 kB)\n",
            "Collecting langdetect>=1.0.9 (from flair==0.13.1->gliner->gliner-spacy)\n",
            "  Downloading langdetect-1.0.9.tar.gz (981 kB)\n",
            "\u001b[2K     \u001b[90m━━━━━━━━━━━━━━━━━━━━━━━━━━━━━━━━━━━━━━━\u001b[0m \u001b[32m981.5/981.5 kB\u001b[0m \u001b[31m3.8 MB/s\u001b[0m eta \u001b[36m0:00:00\u001b[0ma \u001b[36m0:00:01\u001b[0m\n",
            "\u001b[?25h  Preparing metadata (setup.py) ... \u001b[?25ldone\n",
            "\u001b[?25hRequirement already satisfied: lxml>=4.8.0 in /home/jayantnehra/.local/lib/python3.10/site-packages (from flair==0.13.1->gliner->gliner-spacy) (4.9.2)\n",
            "Requirement already satisfied: matplotlib>=2.2.3 in /home/jayantnehra/.local/lib/python3.10/site-packages (from flair==0.13.1->gliner->gliner-spacy) (3.7.1)\n",
            "Collecting more-itertools>=8.13.0 (from flair==0.13.1->gliner->gliner-spacy)\n",
            "  Downloading more_itertools-10.2.0-py3-none-any.whl.metadata (34 kB)\n",
            "Collecting mpld3>=0.3 (from flair==0.13.1->gliner->gliner-spacy)\n",
            "  Downloading mpld3-0.5.10-py3-none-any.whl.metadata (5.1 kB)\n",
            "Collecting pptree>=3.1 (from flair==0.13.1->gliner->gliner-spacy)\n",
            "  Downloading pptree-3.1.tar.gz (3.0 kB)\n",
            "  Preparing metadata (setup.py) ... \u001b[?25ldone\n",
            "\u001b[?25hRequirement already satisfied: python-dateutil>=2.8.2 in /home/jayantnehra/.local/lib/python3.10/site-packages (from flair==0.13.1->gliner->gliner-spacy) (2.8.2)\n",
            "Collecting pytorch-revgrad>=0.2.0 (from flair==0.13.1->gliner->gliner-spacy)\n",
            "  Downloading pytorch_revgrad-0.2.0-py3-none-any.whl.metadata (1.7 kB)\n",
            "Requirement already satisfied: regex>=2022.1.18 in /home/jayantnehra/.local/lib/python3.10/site-packages (from flair==0.13.1->gliner->gliner-spacy) (2023.5.5)\n",
            "Requirement already satisfied: scikit-learn>=1.0.2 in /home/jayantnehra/.local/lib/python3.10/site-packages (from flair==0.13.1->gliner->gliner-spacy) (1.2.2)\n",
            "Collecting segtok>=1.5.11 (from flair==0.13.1->gliner->gliner-spacy)\n",
            "  Downloading segtok-1.5.11-py3-none-any.whl.metadata (9.0 kB)\n",
            "Collecting sqlitedict>=2.0.0 (from flair==0.13.1->gliner->gliner-spacy)\n",
            "  Downloading sqlitedict-2.1.0.tar.gz (21 kB)\n",
            "  Preparing metadata (setup.py) ... \u001b[?25ldone\n",
            "\u001b[?25hRequirement already satisfied: tabulate>=0.8.10 in /home/jayantnehra/.local/lib/python3.10/site-packages (from flair==0.13.1->gliner->gliner-spacy) (0.9.0)\n",
            "Collecting transformer-smaller-training-vocab>=0.2.3 (from flair==0.13.1->gliner->gliner-spacy)\n",
            "  Downloading transformer_smaller_training_vocab-0.3.3-py3-none-any.whl.metadata (8.0 kB)\n",
            "Requirement already satisfied: urllib3<2.0.0,>=1.0.0 in /home/jayantnehra/.local/lib/python3.10/site-packages (from flair==0.13.1->gliner->gliner-spacy) (1.26.16)\n",
            "Collecting wikipedia-api>=0.5.7 (from flair==0.13.1->gliner->gliner-spacy)\n",
            "  Downloading Wikipedia_API-0.6.0-py3-none-any.whl.metadata (22 kB)\n",
            "Collecting semver<4.0.0,>=3.0.0 (from flair==0.13.1->gliner->gliner-spacy)\n",
            "  Downloading semver-3.0.2-py3-none-any.whl.metadata (5.0 kB)\n",
            "Requirement already satisfied: spacy-legacy<3.1.0,>=3.0.11 in /home/jayantnehra/.local/lib/python3.10/site-packages (from spacy->gliner-spacy) (3.0.12)\n",
            "Requirement already satisfied: spacy-loggers<2.0.0,>=1.0.0 in /home/jayantnehra/.local/lib/python3.10/site-packages (from spacy->gliner-spacy) (1.0.5)\n",
            "Requirement already satisfied: murmurhash<1.1.0,>=0.28.0 in /home/jayantnehra/.local/lib/python3.10/site-packages (from spacy->gliner-spacy) (1.0.10)\n",
            "Requirement already satisfied: cymem<2.1.0,>=2.0.2 in /home/jayantnehra/.local/lib/python3.10/site-packages (from spacy->gliner-spacy) (2.0.8)\n",
            "Requirement already satisfied: preshed<3.1.0,>=3.0.2 in /home/jayantnehra/.local/lib/python3.10/site-packages (from spacy->gliner-spacy) (3.0.9)\n",
            "Requirement already satisfied: thinc<8.3.0,>=8.2.2 in /home/jayantnehra/.local/lib/python3.10/site-packages (from spacy->gliner-spacy) (8.2.3)\n",
            "Requirement already satisfied: wasabi<1.2.0,>=0.9.1 in /home/jayantnehra/.local/lib/python3.10/site-packages (from spacy->gliner-spacy) (1.1.2)\n",
            "Requirement already satisfied: srsly<3.0.0,>=2.4.3 in /home/jayantnehra/.local/lib/python3.10/site-packages (from spacy->gliner-spacy) (2.4.8)\n",
            "Requirement already satisfied: catalogue<2.1.0,>=2.0.6 in /home/jayantnehra/.local/lib/python3.10/site-packages (from spacy->gliner-spacy) (2.0.10)\n",
            "Requirement already satisfied: weasel<0.4.0,>=0.1.0 in /home/jayantnehra/.local/lib/python3.10/site-packages (from spacy->gliner-spacy) (0.3.4)\n",
            "Requirement already satisfied: typer<0.10.0,>=0.3.0 in /home/jayantnehra/.local/lib/python3.10/site-packages (from spacy->gliner-spacy) (0.9.0)\n",
            "Requirement already satisfied: smart-open<7.0.0,>=5.2.1 in /home/jayantnehra/.local/lib/python3.10/site-packages (from spacy->gliner-spacy) (6.4.0)\n",
            "Requirement already satisfied: requests<3.0.0,>=2.13.0 in /home/jayantnehra/.local/lib/python3.10/site-packages (from spacy->gliner-spacy) (2.30.0)\n",
            "Requirement already satisfied: pydantic!=1.8,!=1.8.1,<3.0.0,>=1.7.4 in /home/jayantnehra/.local/lib/python3.10/site-packages (from spacy->gliner-spacy) (1.10.7)\n",
            "Requirement already satisfied: jinja2 in /home/jayantnehra/.local/lib/python3.10/site-packages (from spacy->gliner-spacy) (3.1.2)\n",
            "Requirement already satisfied: setuptools in /home/jayantnehra/.local/lib/python3.10/site-packages (from spacy->gliner-spacy) (69.2.0)\n",
            "Requirement already satisfied: packaging>=20.0 in /home/jayantnehra/.local/lib/python3.10/site-packages (from spacy->gliner-spacy) (23.0)\n",
            "Requirement already satisfied: langcodes<4.0.0,>=3.2.0 in /home/jayantnehra/.local/lib/python3.10/site-packages (from spacy->gliner-spacy) (3.3.0)\n",
            "Requirement already satisfied: numpy>=1.19.0 in /home/jayantnehra/.local/lib/python3.10/site-packages (from spacy->gliner-spacy) (1.23.5)\n",
            "Requirement already satisfied: filelock in /home/jayantnehra/.local/lib/python3.10/site-packages (from huggingface-hub>=0.21.4->gliner->gliner-spacy) (3.12.3)\n",
            "Requirement already satisfied: fsspec>=2023.5.0 in /home/jayantnehra/.local/lib/python3.10/site-packages (from huggingface-hub>=0.21.4->gliner->gliner-spacy) (2023.5.0)\n",
            "Requirement already satisfied: pyyaml>=5.1 in /usr/lib/python3/dist-packages (from huggingface-hub>=0.21.4->gliner->gliner-spacy) (5.4.1)\n",
            "Requirement already satisfied: typing-extensions>=3.7.4.3 in /home/jayantnehra/.local/lib/python3.10/site-packages (from huggingface-hub>=0.21.4->gliner->gliner-spacy) (4.7.1)\n",
            "Requirement already satisfied: charset-normalizer<4,>=2 in /home/jayantnehra/.local/lib/python3.10/site-packages (from requests<3.0.0,>=2.13.0->spacy->gliner-spacy) (3.0.1)\n",
            "Requirement already satisfied: idna<4,>=2.5 in /usr/lib/python3/dist-packages (from requests<3.0.0,>=2.13.0->spacy->gliner-spacy) (3.3)\n",
            "Requirement already satisfied: certifi>=2017.4.17 in /home/jayantnehra/.local/lib/python3.10/site-packages (from requests<3.0.0,>=2.13.0->spacy->gliner-spacy) (2022.12.7)\n",
            "Requirement already satisfied: blis<0.8.0,>=0.7.8 in /home/jayantnehra/.local/lib/python3.10/site-packages (from thinc<8.3.0,>=8.2.2->spacy->gliner-spacy) (0.7.11)\n",
            "Requirement already satisfied: confection<1.0.0,>=0.0.1 in /home/jayantnehra/.local/lib/python3.10/site-packages (from thinc<8.3.0,>=8.2.2->spacy->gliner-spacy) (0.1.4)\n",
            "Requirement already satisfied: sympy in /home/jayantnehra/.local/lib/python3.10/site-packages (from torch>=2.0.0->gliner->gliner-spacy) (1.12)\n",
            "Requirement already satisfied: networkx in /home/jayantnehra/.local/lib/python3.10/site-packages (from torch>=2.0.0->gliner->gliner-spacy) (3.1)\n",
            "Requirement already satisfied: nvidia-cuda-nvrtc-cu11==11.7.99 in /home/jayantnehra/.local/lib/python3.10/site-packages (from torch>=2.0.0->gliner->gliner-spacy) (11.7.99)\n",
            "Requirement already satisfied: nvidia-cuda-runtime-cu11==11.7.99 in /home/jayantnehra/.local/lib/python3.10/site-packages (from torch>=2.0.0->gliner->gliner-spacy) (11.7.99)\n",
            "Requirement already satisfied: nvidia-cuda-cupti-cu11==11.7.101 in /home/jayantnehra/.local/lib/python3.10/site-packages (from torch>=2.0.0->gliner->gliner-spacy) (11.7.101)\n",
            "Requirement already satisfied: nvidia-cudnn-cu11==8.5.0.96 in /home/jayantnehra/.local/lib/python3.10/site-packages (from torch>=2.0.0->gliner->gliner-spacy) (8.5.0.96)\n",
            "Requirement already satisfied: nvidia-cublas-cu11==11.10.3.66 in /home/jayantnehra/.local/lib/python3.10/site-packages (from torch>=2.0.0->gliner->gliner-spacy) (11.10.3.66)\n",
            "Requirement already satisfied: nvidia-cufft-cu11==10.9.0.58 in /home/jayantnehra/.local/lib/python3.10/site-packages (from torch>=2.0.0->gliner->gliner-spacy) (10.9.0.58)\n",
            "Requirement already satisfied: nvidia-curand-cu11==10.2.10.91 in /home/jayantnehra/.local/lib/python3.10/site-packages (from torch>=2.0.0->gliner->gliner-spacy) (10.2.10.91)\n",
            "Requirement already satisfied: nvidia-cusolver-cu11==11.4.0.1 in /home/jayantnehra/.local/lib/python3.10/site-packages (from torch>=2.0.0->gliner->gliner-spacy) (11.4.0.1)\n",
            "Requirement already satisfied: nvidia-cusparse-cu11==11.7.4.91 in /home/jayantnehra/.local/lib/python3.10/site-packages (from torch>=2.0.0->gliner->gliner-spacy) (11.7.4.91)\n",
            "Requirement already satisfied: nvidia-nccl-cu11==2.14.3 in /home/jayantnehra/.local/lib/python3.10/site-packages (from torch>=2.0.0->gliner->gliner-spacy) (2.14.3)\n",
            "Requirement already satisfied: nvidia-nvtx-cu11==11.7.91 in /home/jayantnehra/.local/lib/python3.10/site-packages (from torch>=2.0.0->gliner->gliner-spacy) (11.7.91)\n",
            "Requirement already satisfied: triton==2.0.0 in /home/jayantnehra/.local/lib/python3.10/site-packages (from torch>=2.0.0->gliner->gliner-spacy) (2.0.0)\n",
            "Requirement already satisfied: wheel in /home/jayantnehra/.local/lib/python3.10/site-packages (from nvidia-cublas-cu11==11.10.3.66->torch>=2.0.0->gliner->gliner-spacy) (0.43.0)\n",
            "Requirement already satisfied: cmake in /home/jayantnehra/.local/lib/python3.10/site-packages (from triton==2.0.0->torch>=2.0.0->gliner->gliner-spacy) (3.26.3)\n",
            "Requirement already satisfied: lit in /home/jayantnehra/.local/lib/python3.10/site-packages (from triton==2.0.0->torch>=2.0.0->gliner->gliner-spacy) (16.0.5)\n",
            "Collecting tokenizers<0.19,>=0.14 (from transformers>=4.38.2->gliner->gliner-spacy)\n",
            "  Downloading tokenizers-0.15.2-cp310-cp310-manylinux_2_17_x86_64.manylinux2014_x86_64.whl.metadata (6.7 kB)\n",
            "Collecting safetensors>=0.4.1 (from transformers>=4.38.2->gliner->gliner-spacy)\n",
            "  Downloading safetensors-0.4.2-cp310-cp310-manylinux_2_17_x86_64.manylinux2014_x86_64.whl.metadata (3.8 kB)\n",
            "Requirement already satisfied: click<9.0.0,>=7.1.1 in /home/jayantnehra/.local/lib/python3.10/site-packages (from typer<0.10.0,>=0.3.0->spacy->gliner-spacy) (8.1.7)\n",
            "Requirement already satisfied: cloudpathlib<0.17.0,>=0.7.0 in /home/jayantnehra/.local/lib/python3.10/site-packages (from weasel<0.4.0,>=0.1.0->spacy->gliner-spacy) (0.16.0)\n",
            "Requirement already satisfied: MarkupSafe>=2.0 in /home/jayantnehra/.local/lib/python3.10/site-packages (from jinja2->spacy->gliner-spacy) (2.1.2)\n",
            "Collecting botocore<1.35.0,>=1.34.74 (from boto3>=1.20.27->flair==0.13.1->gliner->gliner-spacy)\n",
            "  Downloading botocore-1.34.74-py3-none-any.whl.metadata (5.7 kB)\n",
            "Collecting jmespath<2.0.0,>=0.7.1 (from boto3>=1.20.27->flair==0.13.1->gliner->gliner-spacy)\n",
            "  Downloading jmespath-1.0.1-py3-none-any.whl.metadata (7.6 kB)\n",
            "Collecting s3transfer<0.11.0,>=0.10.0 (from boto3>=1.20.27->flair==0.13.1->gliner->gliner-spacy)\n",
            "  Downloading s3transfer-0.10.1-py3-none-any.whl.metadata (1.7 kB)\n",
            "Requirement already satisfied: sentencepiece in /home/jayantnehra/.local/lib/python3.10/site-packages (from bpemb>=0.3.2->flair==0.13.1->gliner->gliner-spacy) (0.1.99)\n",
            "Requirement already satisfied: wrapt<2,>=1.10 in /home/jayantnehra/.local/lib/python3.10/site-packages (from deprecated>=1.2.13->flair==0.13.1->gliner->gliner-spacy) (1.14.1)\n",
            "Collecting wcwidth<0.3.0,>=0.2.12 (from ftfy>=6.1.0->flair==0.13.1->gliner->gliner-spacy)\n",
            "  Downloading wcwidth-0.2.13-py2.py3-none-any.whl.metadata (14 kB)\n",
            "Requirement already satisfied: beautifulsoup4 in /home/jayantnehra/.local/lib/python3.10/site-packages (from gdown>=4.4.0->flair==0.13.1->gliner->gliner-spacy) (4.11.2)\n",
            "Requirement already satisfied: scipy>=1.7.0 in /home/jayantnehra/.local/lib/python3.10/site-packages (from gensim>=4.2.0->flair==0.13.1->gliner->gliner-spacy) (1.10.1)\n",
            "Requirement already satisfied: six in /usr/lib/python3/dist-packages (from langdetect>=1.0.9->flair==0.13.1->gliner->gliner-spacy) (1.16.0)\n",
            "Requirement already satisfied: contourpy>=1.0.1 in /home/jayantnehra/.local/lib/python3.10/site-packages (from matplotlib>=2.2.3->flair==0.13.1->gliner->gliner-spacy) (1.1.0)\n",
            "Requirement already satisfied: cycler>=0.10 in /home/jayantnehra/.local/lib/python3.10/site-packages (from matplotlib>=2.2.3->flair==0.13.1->gliner->gliner-spacy) (0.11.0)\n",
            "Requirement already satisfied: fonttools>=4.22.0 in /home/jayantnehra/.local/lib/python3.10/site-packages (from matplotlib>=2.2.3->flair==0.13.1->gliner->gliner-spacy) (4.40.0)\n",
            "Requirement already satisfied: kiwisolver>=1.0.1 in /home/jayantnehra/.local/lib/python3.10/site-packages (from matplotlib>=2.2.3->flair==0.13.1->gliner->gliner-spacy) (1.4.4)\n",
            "Requirement already satisfied: pillow>=6.2.0 in /home/jayantnehra/.local/lib/python3.10/site-packages (from matplotlib>=2.2.3->flair==0.13.1->gliner->gliner-spacy) (9.4.0)\n",
            "Requirement already satisfied: pyparsing>=2.3.1 in /home/jayantnehra/.local/lib/python3.10/site-packages (from matplotlib>=2.2.3->flair==0.13.1->gliner->gliner-spacy) (3.1.1)\n",
            "Requirement already satisfied: joblib>=1.1.1 in /home/jayantnehra/.local/lib/python3.10/site-packages (from scikit-learn>=1.0.2->flair==0.13.1->gliner->gliner-spacy) (1.2.0)\n",
            "Requirement already satisfied: threadpoolctl>=2.0.0 in /home/jayantnehra/.local/lib/python3.10/site-packages (from scikit-learn>=1.0.2->flair==0.13.1->gliner->gliner-spacy) (3.1.0)\n",
            "Collecting torch>=2.0.0 (from gliner->gliner-spacy)\n",
            "  Downloading torch-2.2.2-cp310-cp310-manylinux1_x86_64.whl.metadata (26 kB)\n",
            "Collecting typing-extensions>=3.7.4.3 (from huggingface-hub>=0.21.4->gliner->gliner-spacy)\n",
            "  Downloading typing_extensions-4.10.0-py3-none-any.whl.metadata (3.0 kB)\n",
            "Collecting nvidia-cuda-nvrtc-cu12==12.1.105 (from torch>=2.0.0->gliner->gliner-spacy)\n",
            "  Using cached nvidia_cuda_nvrtc_cu12-12.1.105-py3-none-manylinux1_x86_64.whl.metadata (1.5 kB)\n",
            "Collecting nvidia-cuda-runtime-cu12==12.1.105 (from torch>=2.0.0->gliner->gliner-spacy)\n",
            "  Using cached nvidia_cuda_runtime_cu12-12.1.105-py3-none-manylinux1_x86_64.whl.metadata (1.5 kB)\n",
            "Collecting nvidia-cuda-cupti-cu12==12.1.105 (from torch>=2.0.0->gliner->gliner-spacy)\n",
            "  Using cached nvidia_cuda_cupti_cu12-12.1.105-py3-none-manylinux1_x86_64.whl.metadata (1.6 kB)\n",
            "Collecting nvidia-cudnn-cu12==8.9.2.26 (from torch>=2.0.0->gliner->gliner-spacy)\n",
            "  Using cached nvidia_cudnn_cu12-8.9.2.26-py3-none-manylinux1_x86_64.whl.metadata (1.6 kB)\n",
            "Collecting nvidia-cublas-cu12==12.1.3.1 (from torch>=2.0.0->gliner->gliner-spacy)\n",
            "  Using cached nvidia_cublas_cu12-12.1.3.1-py3-none-manylinux1_x86_64.whl.metadata (1.5 kB)\n",
            "Collecting nvidia-cufft-cu12==11.0.2.54 (from torch>=2.0.0->gliner->gliner-spacy)\n",
            "  Using cached nvidia_cufft_cu12-11.0.2.54-py3-none-manylinux1_x86_64.whl.metadata (1.5 kB)\n",
            "Collecting nvidia-curand-cu12==10.3.2.106 (from torch>=2.0.0->gliner->gliner-spacy)\n",
            "  Using cached nvidia_curand_cu12-10.3.2.106-py3-none-manylinux1_x86_64.whl.metadata (1.5 kB)\n",
            "Collecting nvidia-cusolver-cu12==11.4.5.107 (from torch>=2.0.0->gliner->gliner-spacy)\n",
            "  Using cached nvidia_cusolver_cu12-11.4.5.107-py3-none-manylinux1_x86_64.whl.metadata (1.6 kB)\n",
            "Collecting nvidia-cusparse-cu12==12.1.0.106 (from torch>=2.0.0->gliner->gliner-spacy)\n",
            "  Using cached nvidia_cusparse_cu12-12.1.0.106-py3-none-manylinux1_x86_64.whl.metadata (1.6 kB)\n",
            "Collecting nvidia-nccl-cu12==2.19.3 (from torch>=2.0.0->gliner->gliner-spacy)\n",
            "  Using cached nvidia_nccl_cu12-2.19.3-py3-none-manylinux1_x86_64.whl.metadata (1.8 kB)\n",
            "Collecting nvidia-nvtx-cu12==12.1.105 (from torch>=2.0.0->gliner->gliner-spacy)\n",
            "  Using cached nvidia_nvtx_cu12-12.1.105-py3-none-manylinux1_x86_64.whl.metadata (1.7 kB)\n",
            "Collecting triton==2.2.0 (from torch>=2.0.0->gliner->gliner-spacy)\n",
            "  Downloading triton-2.2.0-cp310-cp310-manylinux_2_17_x86_64.manylinux2014_x86_64.whl.metadata (1.4 kB)\n",
            "Collecting nvidia-nvjitlink-cu12 (from nvidia-cusolver-cu12==11.4.5.107->torch>=2.0.0->gliner->gliner-spacy)\n",
            "  Using cached nvidia_nvjitlink_cu12-12.4.99-py3-none-manylinux2014_x86_64.whl.metadata (1.5 kB)\n",
            "Requirement already satisfied: protobuf in /home/jayantnehra/.local/lib/python3.10/site-packages (from transformers[sentencepiece]<5.0.0,>=4.18.0->flair==0.13.1->gliner->gliner-spacy) (4.21.12)\n",
            "Requirement already satisfied: mpmath>=0.19 in /home/jayantnehra/.local/lib/python3.10/site-packages (from sympy->torch>=2.0.0->gliner->gliner-spacy) (1.3.0)\n",
            "Collecting accelerate>=0.21.0 (from transformers[torch]<5.0,>=4.1->transformer-smaller-training-vocab>=0.2.3->flair==0.13.1->gliner->gliner-spacy)\n",
            "  Downloading accelerate-0.28.0-py3-none-any.whl.metadata (18 kB)\n",
            "Requirement already satisfied: soupsieve>1.2 in /home/jayantnehra/.local/lib/python3.10/site-packages (from beautifulsoup4->gdown>=4.4.0->flair==0.13.1->gliner->gliner-spacy) (2.4)\n",
            "Requirement already satisfied: PySocks!=1.5.7,>=1.5.6 in /home/jayantnehra/.local/lib/python3.10/site-packages (from requests[socks]->gdown>=4.4.0->flair==0.13.1->gliner->gliner-spacy) (1.7.1)\n",
            "Requirement already satisfied: psutil in /home/jayantnehra/.local/lib/python3.10/site-packages (from accelerate>=0.21.0->transformers[torch]<5.0,>=4.1->transformer-smaller-training-vocab>=0.2.3->flair==0.13.1->gliner->gliner-spacy) (5.9.5)\n",
            "Downloading gliner-0.1.6-py3-none-any.whl (25 kB)\n",
            "Downloading flair-0.13.1-py3-none-any.whl (388 kB)\n",
            "\u001b[2K   \u001b[90m━━━━━━━━━━━━━━━━━━━━━━━━━━━━━━━━━━━━━━━━\u001b[0m \u001b[32m388.3/388.3 kB\u001b[0m \u001b[31m3.0 MB/s\u001b[0m eta \u001b[36m0:00:00\u001b[0ma \u001b[36m0:00:01\u001b[0m\n",
            "\u001b[?25hUsing cached huggingface_hub-0.22.2-py3-none-any.whl (388 kB)\n",
            "Downloading transformers-4.39.2-py3-none-any.whl (8.8 MB)\n",
            "\u001b[2K   \u001b[90m━━━━━━━━━━━━━━━━━━━━━━━━━━━━━━━━━━━━━━━━\u001b[0m \u001b[32m8.8/8.8 MB\u001b[0m \u001b[31m3.8 MB/s\u001b[0m eta \u001b[36m0:00:00\u001b[0m00:01\u001b[0m00:01\u001b[0m\n",
            "\u001b[?25hDownloading boto3-1.34.74-py3-none-any.whl (139 kB)\n",
            "\u001b[2K   \u001b[90m━━━━━━━━━━━━━━━━━━━━━━━━━━━━━━━━━━━━━━━━\u001b[0m \u001b[32m139.3/139.3 kB\u001b[0m \u001b[31m3.2 MB/s\u001b[0m eta \u001b[36m0:00:00\u001b[0ma \u001b[36m0:00:01\u001b[0m\n",
            "\u001b[?25hDownloading bpemb-0.3.5-py3-none-any.whl (19 kB)\n",
            "Downloading conllu-4.5.3-py2.py3-none-any.whl (16 kB)\n",
            "Downloading ftfy-6.2.0-py3-none-any.whl (54 kB)\n",
            "\u001b[2K   \u001b[90m━━━━━━━━━━━━━━━━━━━━━━━━━━━━━━━━━━━━━━━━\u001b[0m \u001b[32m54.4/54.4 kB\u001b[0m \u001b[31m4.4 MB/s\u001b[0m eta \u001b[36m0:00:00\u001b[0m\n",
            "\u001b[?25hDownloading gdown-5.1.0-py3-none-any.whl (17 kB)\n",
            "Downloading gensim-4.3.2-cp310-cp310-manylinux_2_17_x86_64.manylinux2014_x86_64.whl (26.5 MB)\n",
            "\u001b[2K   \u001b[90m━━━━━━━━━━━━━━━━━━━━━━━━━━━━━━━━━━━━━━━━\u001b[0m \u001b[32m26.5/26.5 MB\u001b[0m \u001b[31m3.9 MB/s\u001b[0m eta \u001b[36m0:00:00\u001b[0m00:01\u001b[0m00:01\u001b[0m\n",
            "\u001b[?25hDownloading Janome-0.5.0-py2.py3-none-any.whl (19.7 MB)\n",
            "\u001b[2K   \u001b[90m━━━━━━━━━━━━━━━━━━━━━━━━━━━━━━━━━━━━━━━━\u001b[0m \u001b[32m19.7/19.7 MB\u001b[0m \u001b[31m4.3 MB/s\u001b[0m eta \u001b[36m0:00:00\u001b[0m00:01\u001b[0m00:01\u001b[0m\n",
            "\u001b[?25hDownloading more_itertools-10.2.0-py3-none-any.whl (57 kB)\n",
            "\u001b[2K   \u001b[90m━━━━━━━━━━━━━━━━━━━━━━━━━━━━━━━━━━━━━━━━\u001b[0m \u001b[32m57.0/57.0 kB\u001b[0m \u001b[31m2.3 MB/s\u001b[0m eta \u001b[36m0:00:00\u001b[0m\n",
            "\u001b[?25hDownloading mpld3-0.5.10-py3-none-any.whl (202 kB)\n",
            "\u001b[2K   \u001b[90m━━━━━━━━━━━━━━━━━━━━━━━━━━━━━━━━━━━━━━━━\u001b[0m \u001b[32m202.6/202.6 kB\u001b[0m \u001b[31m3.8 MB/s\u001b[0m eta \u001b[36m0:00:00\u001b[0ma \u001b[36m0:00:01\u001b[0m\n",
            "\u001b[?25hDownloading pytorch_revgrad-0.2.0-py3-none-any.whl (4.6 kB)\n",
            "Downloading safetensors-0.4.2-cp310-cp310-manylinux_2_17_x86_64.manylinux2014_x86_64.whl (1.3 MB)\n",
            "\u001b[2K   \u001b[90m━━━━━━━━━━━━━━━━━━━━━━━━━━━━━━━━━━━━━━━━\u001b[0m \u001b[32m1.3/1.3 MB\u001b[0m \u001b[31m4.0 MB/s\u001b[0m eta \u001b[36m0:00:00\u001b[0ma \u001b[36m0:00:01\u001b[0m\n",
            "\u001b[?25hDownloading segtok-1.5.11-py3-none-any.whl (24 kB)\n",
            "Downloading semver-3.0.2-py3-none-any.whl (17 kB)\n",
            "Downloading tokenizers-0.15.2-cp310-cp310-manylinux_2_17_x86_64.manylinux2014_x86_64.whl (3.6 MB)\n",
            "\u001b[2K   \u001b[90m━━━━━━━━━━━━━━━━━━━━━━━━━━━━━━━━━━━━━━━━\u001b[0m \u001b[32m3.6/3.6 MB\u001b[0m \u001b[31m3.9 MB/s\u001b[0m eta \u001b[36m0:00:00\u001b[0m00:01\u001b[0m00:01\u001b[0m\n",
            "\u001b[?25hDownloading transformer_smaller_training_vocab-0.3.3-py3-none-any.whl (14 kB)\n",
            "Downloading torch-2.2.2-cp310-cp310-manylinux1_x86_64.whl (755.5 MB)\n",
            "\u001b[2K   \u001b[91m━━━━━━━━━\u001b[0m\u001b[90m╺\u001b[0m\u001b[90m━━━━━━━━━━━━━━━━━━━━━━━━━━━━━━\u001b[0m \u001b[32m176.3/755.5 MB\u001b[0m \u001b[31m4.3 MB/s\u001b[0m eta \u001b[36m0:02:15\u001b[0m^C\n",
            "\u001b[2K   \u001b[91m━━━━━━━━━\u001b[0m\u001b[90m╺\u001b[0m\u001b[90m━━━━━━━━━━━━━━━━━━━━━━━━━━━━━━\u001b[0m \u001b[32m176.3/755.5 MB\u001b[0m \u001b[31m4.3 MB/s\u001b[0m eta \u001b[36m0:02:15\u001b[0m\n",
            "\u001b[?25h\u001b[31mERROR: Operation cancelled by user\u001b[0m\u001b[31m\n",
            "\u001b[0m"
          ]
        }
      ],
      "source": [
        "!pip install gliner-spacy"
      ]
    },
    {
      "cell_type": "code",
      "execution_count": null,
      "metadata": {
        "id": "23nIUv-vGIMV"
      },
      "outputs": [],
      "source": [
        "import spacy\n",
        "from gliner_spacy.pipeline import GlinerSpacy\n",
        "\n",
        "nlp = spacy.blank(\"en\")\n",
        "nlp.add_pipe(\"gliner_spacy\")\n",
        "\n",
        "text = \"John Doe lives in Warsaw, Poland. His email is john.doe@example.com, and his birthday is on 5th July 1988. Wikipedia notes that Treblinka is not large.\"\n",
        "\n",
        "\n",
        "doc = nlp(text)\n",
        "\n",
        "for ent in doc.ents:\n",
        "    print(ent.text, ent.label_)"
      ]
    }
  ],
  "metadata": {
    "kernelspec": {
      "display_name": "Python 3",
      "language": "python",
      "name": "python3"
    },
    "language_info": {
      "codemirror_mode": {
        "name": "ipython",
        "version": 3
      },
      "file_extension": ".py",
      "mimetype": "text/x-python",
      "name": "python",
      "nbconvert_exporter": "python",
      "pygments_lexer": "ipython3",
      "version": "3.10.12"
    },
    "colab": {
      "provenance": [],
      "include_colab_link": true
    }
  },
  "nbformat": 4,
  "nbformat_minor": 0
}